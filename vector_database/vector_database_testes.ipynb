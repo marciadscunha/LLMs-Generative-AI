{
 "cells": [
  {
   "cell_type": "markdown",
   "metadata": {},
   "source": [
    "# PREPROCESSING"
   ]
  },
  {
   "cell_type": "code",
   "execution_count": 1,
   "metadata": {},
   "outputs": [],
   "source": [
    "import pandas as pd\n",
    "import matplotlib.pyplot as plt\n",
    "import numpy as np\n",
    "import time\n",
    "import warnings\n",
    "import seaborn as sbn\n",
    "from preprocessing_vdb import TextPreprocessor\n",
    "pd.options.display.max_colwidth=1000\n",
    "warnings.filterwarnings(\"ignore\")"
   ]
  },
  {
   "cell_type": "code",
   "execution_count": 2,
   "metadata": {},
   "outputs": [],
   "source": [
    "text_processor = TextPreprocessor()"
   ]
  },
  {
   "cell_type": "markdown",
   "metadata": {},
   "source": [
    "### DADOS "
   ]
  },
  {
   "cell_type": "markdown",
   "metadata": {},
   "source": [
    "PREPROCESSAMENTO"
   ]
  },
  {
   "cell_type": "code",
   "execution_count": 3,
   "metadata": {},
   "outputs": [],
   "source": [
    "df = pd.read_csv('movies_teste.csv')"
   ]
  },
  {
   "cell_type": "code",
   "execution_count": 4,
   "metadata": {},
   "outputs": [
    {
     "name": "stdout",
     "output_type": "stream",
     "text": [
      "<class 'pandas.core.frame.DataFrame'>\n",
      "RangeIndex: 9 entries, 0 to 8\n",
      "Data columns (total 20 columns):\n",
      " #   Column                Non-Null Count  Dtype  \n",
      "---  ------                --------------  -----  \n",
      " 0   id                    9 non-null      int64  \n",
      " 1   title                 9 non-null      object \n",
      " 2   genres                9 non-null      object \n",
      " 3   original_language     9 non-null      object \n",
      " 4   overview              8 non-null      object \n",
      " 5   popularity            9 non-null      float64\n",
      " 6   production_companies  8 non-null      object \n",
      " 7   release_date          9 non-null      object \n",
      " 8   budget                9 non-null      float64\n",
      " 9   revenue               9 non-null      float64\n",
      " 10  runtime               9 non-null      float64\n",
      " 11  status                9 non-null      object \n",
      " 12  tagline               7 non-null      object \n",
      " 13  vote_average          9 non-null      float64\n",
      " 14  vote_count            9 non-null      float64\n",
      " 15  credits               9 non-null      object \n",
      " 16  keywords              8 non-null      object \n",
      " 17  poster_path           9 non-null      object \n",
      " 18  backdrop_path         9 non-null      object \n",
      " 19  recommendations       6 non-null      object \n",
      "dtypes: float64(6), int64(1), object(13)\n",
      "memory usage: 1.5+ KB\n"
     ]
    }
   ],
   "source": [
    "df.info()"
   ]
  },
  {
   "cell_type": "code",
   "execution_count": 5,
   "metadata": {},
   "outputs": [
    {
     "name": "stdout",
     "output_type": "stream",
     "text": [
      "<class 'pandas.core.frame.DataFrame'>\n",
      "Index: 8 entries, 0 to 8\n",
      "Data columns (total 20 columns):\n",
      " #   Column                Non-Null Count  Dtype  \n",
      "---  ------                --------------  -----  \n",
      " 0   id                    8 non-null      int64  \n",
      " 1   title                 8 non-null      object \n",
      " 2   genres                8 non-null      object \n",
      " 3   original_language     8 non-null      object \n",
      " 4   overview              8 non-null      object \n",
      " 5   popularity            8 non-null      float64\n",
      " 6   production_companies  7 non-null      object \n",
      " 7   release_date          8 non-null      object \n",
      " 8   budget                8 non-null      float64\n",
      " 9   revenue               8 non-null      float64\n",
      " 10  runtime               8 non-null      float64\n",
      " 11  status                8 non-null      object \n",
      " 12  tagline               7 non-null      object \n",
      " 13  vote_average          8 non-null      float64\n",
      " 14  vote_count            8 non-null      float64\n",
      " 15  credits               8 non-null      object \n",
      " 16  keywords              7 non-null      object \n",
      " 17  poster_path           8 non-null      object \n",
      " 18  backdrop_path         8 non-null      object \n",
      " 19  recommendations       6 non-null      object \n",
      "dtypes: float64(6), int64(1), object(13)\n",
      "memory usage: 1.3+ KB\n"
     ]
    }
   ],
   "source": [
    "df = df.dropna(subset=['overview'])\n",
    "df.info()"
   ]
  },
  {
   "cell_type": "code",
   "execution_count": 6,
   "metadata": {},
   "outputs": [
    {
     "name": "stderr",
     "output_type": "stream",
     "text": [
      "2024-09-18 11:37:06,255 - INFO - Preprocessing column 'overview' in DataFrame with 8 rows.\n",
      "2024-09-18 11:37:06,391 - INFO - Added new column 'preprocessed_overview' to DataFrame.\n",
      "2024-09-18 11:37:06,391 - INFO - Preprocessing column 'title' in DataFrame with 8 rows.\n"
     ]
    },
    {
     "name": "stdout",
     "output_type": "stream",
     "text": [
      "new_col_name preprocessed_overview\n"
     ]
    },
    {
     "name": "stderr",
     "output_type": "stream",
     "text": [
      "2024-09-18 11:37:06,519 - INFO - Added new column 'preprocessed_title' to DataFrame.\n"
     ]
    },
    {
     "name": "stdout",
     "output_type": "stream",
     "text": [
      "new_col_name preprocessed_title\n"
     ]
    }
   ],
   "source": [
    "for col in ['overview','title']:\n",
    "    df = text_processor.preprocess_dataframe(df,col)"
   ]
  },
  {
   "cell_type": "code",
   "execution_count": 7,
   "metadata": {},
   "outputs": [
    {
     "data": {
      "text/html": [
       "<div>\n",
       "<style scoped>\n",
       "    .dataframe tbody tr th:only-of-type {\n",
       "        vertical-align: middle;\n",
       "    }\n",
       "\n",
       "    .dataframe tbody tr th {\n",
       "        vertical-align: top;\n",
       "    }\n",
       "\n",
       "    .dataframe thead th {\n",
       "        text-align: right;\n",
       "    }\n",
       "</style>\n",
       "<table border=\"1\" class=\"dataframe\">\n",
       "  <thead>\n",
       "    <tr style=\"text-align: right;\">\n",
       "      <th></th>\n",
       "      <th>id</th>\n",
       "      <th>title</th>\n",
       "      <th>genres</th>\n",
       "      <th>original_language</th>\n",
       "      <th>overview</th>\n",
       "      <th>popularity</th>\n",
       "      <th>production_companies</th>\n",
       "      <th>release_date</th>\n",
       "      <th>budget</th>\n",
       "      <th>revenue</th>\n",
       "      <th>...</th>\n",
       "      <th>tagline</th>\n",
       "      <th>vote_average</th>\n",
       "      <th>vote_count</th>\n",
       "      <th>credits</th>\n",
       "      <th>keywords</th>\n",
       "      <th>poster_path</th>\n",
       "      <th>backdrop_path</th>\n",
       "      <th>recommendations</th>\n",
       "      <th>preprocessed_overview</th>\n",
       "      <th>preprocessed_title</th>\n",
       "    </tr>\n",
       "  </thead>\n",
       "  <tbody>\n",
       "    <tr>\n",
       "      <th>0</th>\n",
       "      <td>615656</td>\n",
       "      <td>Marcia Cunha: The Trench</td>\n",
       "      <td>Action-Science Fiction-Horror</td>\n",
       "      <td>en</td>\n",
       "      <td>An exploratory dive into the deepest depths of the ocean of a daring research team spirals into chaos when a malevolent mining operation threatens their mission and forces them into a high-stakes battle for survival.</td>\n",
       "      <td>8763.998</td>\n",
       "      <td>Apelles Entertainment-Warner Bros. Pictures-di Bonaventura Pictures-CMC Pictures-Gravity Pictures-China Film Group Corporation</td>\n",
       "      <td>2023-08-02</td>\n",
       "      <td>129000000.0</td>\n",
       "      <td>352056482.0</td>\n",
       "      <td>...</td>\n",
       "      <td>Back for seconds.</td>\n",
       "      <td>7.079</td>\n",
       "      <td>1365.0</td>\n",
       "      <td>Jason Statham-Wu Jing-Shuya Sophia Cai-Sergio Peris-Mencheta-Skyler Samuels-Cliff Curtis-Page Kennedy-Sienna Guillory-Melissanthi Mahut-Kiran Sonia Sawar-Felix Mayr-Whoopie van Raam-Guo Tao-Robin Hill-Dai Lele-Sui Fong Ivy Tsui-Stewart Alexander-Li Xin-Billy Clements-Ron Smoorenburg-Rui Shang-Sara Dee-Jonny James-Bai Narisu-Kenneth Won-Able Wanamakok</td>\n",
       "      <td>based on novel or book-sequel-kaiju</td>\n",
       "      <td>/4m1Au3YkjqsxF8iwQy0fPYSxE0h.jpg</td>\n",
       "      <td>/qlxy8yo5bcgUw2KAmmojUKp4rHd.jpg</td>\n",
       "      <td>1006462-298618-569094-1061181-346698-1076487-616747-1083862-614930-1003581-980489-614479-1040148-872585-57084-667538-1149381-457332-724209-884605</td>\n",
       "      <td>exploratory div deepest depth ocean daring research te spir cha malevolent mining operation threat mission forc high stak battl surviv .</td>\n",
       "      <td>marc cunh : trench</td>\n",
       "    </tr>\n",
       "    <tr>\n",
       "      <th>1</th>\n",
       "      <td>758323</td>\n",
       "      <td>The Pope's Exorcist</td>\n",
       "      <td>Horror-Mystery-Thriller</td>\n",
       "      <td>en</td>\n",
       "      <td>Father Gabriele Amorth Chief Exorcist of the Vatican investigates a young boy's terrifying possession and ends up uncovering a centuries-old conspiracy the Vatican has desperately tried to keep hidden.</td>\n",
       "      <td>5953.227</td>\n",
       "      <td>Screen Gems-2.0 Entertainment-Jesus &amp; Mary-Worldwide Katz-Loyola Productions-FFILME.RO</td>\n",
       "      <td>2023-04-05</td>\n",
       "      <td>18000000.0</td>\n",
       "      <td>65675816.0</td>\n",
       "      <td>...</td>\n",
       "      <td>Inspired by the actual files of Father Gabriele Amorth, Chief Exorcist of the Vatican.</td>\n",
       "      <td>7.433</td>\n",
       "      <td>545.0</td>\n",
       "      <td>Russell Crowe-Daniel Zovatto-Alex Essoe-Franco Nero-Peter DeSouza-Feighoney-Laurel Marsden-Cornell John-Ryan O'Grady-Bianca Bardoe-Santi Bayón-Paloma Bloyd-Alessandro Gruttadauria-River Hawkins-Jordi Collet-Carrie Munro-Marc Velasco-Edward Harper-Jones-Matthew Sim-Victor Solé-Tom Bonington-Andrea Dugoni-Ed White-Laila Barwick-Gennaro Diana-Pablo Raybould-Ralph Ineson-Derek Carroll-Ella Cannon</td>\n",
       "      <td>spain-rome italy-vatican-pope-pig-possession-conspiracy-devil-exorcist-skepticism-catholic priest-1980s-supernatural horror</td>\n",
       "      <td>/9JBEPLTPSm0d1mbEcLxULjJq9Eh.jpg</td>\n",
       "      <td>/hiHGRbyTcbZoLsYYkO4QiCLYe34.jpg</td>\n",
       "      <td>713704-296271-502356-1076605-1084225-1008005-916224-1023313-1033219-980078-842945-943822-816904-804150-638974-649609-603692-849869-809787-776835-1104040</td>\n",
       "      <td>fath gabriel amorth chief exorcist vatican investigat young boy 's terrifying possession end uncovering centuri old conspiracy vatican desperately tried keep hidden .</td>\n",
       "      <td>pop 's exorcist</td>\n",
       "    </tr>\n",
       "  </tbody>\n",
       "</table>\n",
       "<p>2 rows × 22 columns</p>\n",
       "</div>"
      ],
      "text/plain": [
       "       id                     title                         genres  \\\n",
       "0  615656  Marcia Cunha: The Trench  Action-Science Fiction-Horror   \n",
       "1  758323       The Pope's Exorcist        Horror-Mystery-Thriller   \n",
       "\n",
       "  original_language  \\\n",
       "0                en   \n",
       "1                en   \n",
       "\n",
       "                                                                                                                                                                                                                   overview  \\\n",
       "0  An exploratory dive into the deepest depths of the ocean of a daring research team spirals into chaos when a malevolent mining operation threatens their mission and forces them into a high-stakes battle for survival.   \n",
       "1                 Father Gabriele Amorth Chief Exorcist of the Vatican investigates a young boy's terrifying possession and ends up uncovering a centuries-old conspiracy the Vatican has desperately tried to keep hidden.   \n",
       "\n",
       "   popularity  \\\n",
       "0    8763.998   \n",
       "1    5953.227   \n",
       "\n",
       "                                                                                                             production_companies  \\\n",
       "0  Apelles Entertainment-Warner Bros. Pictures-di Bonaventura Pictures-CMC Pictures-Gravity Pictures-China Film Group Corporation   \n",
       "1                                          Screen Gems-2.0 Entertainment-Jesus & Mary-Worldwide Katz-Loyola Productions-FFILME.RO   \n",
       "\n",
       "  release_date       budget      revenue  ...  \\\n",
       "0   2023-08-02  129000000.0  352056482.0  ...   \n",
       "1   2023-04-05   18000000.0   65675816.0  ...   \n",
       "\n",
       "                                                                                  tagline  \\\n",
       "0                                                                       Back for seconds.   \n",
       "1  Inspired by the actual files of Father Gabriele Amorth, Chief Exorcist of the Vatican.   \n",
       "\n",
       "  vote_average vote_count  \\\n",
       "0        7.079     1365.0   \n",
       "1        7.433      545.0   \n",
       "\n",
       "                                                                                                                                                                                                                                                                                                                                                                                                       credits  \\\n",
       "0                                             Jason Statham-Wu Jing-Shuya Sophia Cai-Sergio Peris-Mencheta-Skyler Samuels-Cliff Curtis-Page Kennedy-Sienna Guillory-Melissanthi Mahut-Kiran Sonia Sawar-Felix Mayr-Whoopie van Raam-Guo Tao-Robin Hill-Dai Lele-Sui Fong Ivy Tsui-Stewart Alexander-Li Xin-Billy Clements-Ron Smoorenburg-Rui Shang-Sara Dee-Jonny James-Bai Narisu-Kenneth Won-Able Wanamakok   \n",
       "1  Russell Crowe-Daniel Zovatto-Alex Essoe-Franco Nero-Peter DeSouza-Feighoney-Laurel Marsden-Cornell John-Ryan O'Grady-Bianca Bardoe-Santi Bayón-Paloma Bloyd-Alessandro Gruttadauria-River Hawkins-Jordi Collet-Carrie Munro-Marc Velasco-Edward Harper-Jones-Matthew Sim-Victor Solé-Tom Bonington-Andrea Dugoni-Ed White-Laila Barwick-Gennaro Diana-Pablo Raybould-Ralph Ineson-Derek Carroll-Ella Cannon   \n",
       "\n",
       "                                                                                                                      keywords  \\\n",
       "0                                                                                          based on novel or book-sequel-kaiju   \n",
       "1  spain-rome italy-vatican-pope-pig-possession-conspiracy-devil-exorcist-skepticism-catholic priest-1980s-supernatural horror   \n",
       "\n",
       "                        poster_path                     backdrop_path  \\\n",
       "0  /4m1Au3YkjqsxF8iwQy0fPYSxE0h.jpg  /qlxy8yo5bcgUw2KAmmojUKp4rHd.jpg   \n",
       "1  /9JBEPLTPSm0d1mbEcLxULjJq9Eh.jpg  /hiHGRbyTcbZoLsYYkO4QiCLYe34.jpg   \n",
       "\n",
       "                                                                                                                                            recommendations  \\\n",
       "0         1006462-298618-569094-1061181-346698-1076487-616747-1083862-614930-1003581-980489-614479-1040148-872585-57084-667538-1149381-457332-724209-884605   \n",
       "1  713704-296271-502356-1076605-1084225-1008005-916224-1023313-1033219-980078-842945-943822-816904-804150-638974-649609-603692-849869-809787-776835-1104040   \n",
       "\n",
       "                                                                                                                                                    preprocessed_overview  \\\n",
       "0                                exploratory div deepest depth ocean daring research te spir cha malevolent mining operation threat mission forc high stak battl surviv .   \n",
       "1  fath gabriel amorth chief exorcist vatican investigat young boy 's terrifying possession end uncovering centuri old conspiracy vatican desperately tried keep hidden .   \n",
       "\n",
       "   preprocessed_title  \n",
       "0  marc cunh : trench  \n",
       "1     pop 's exorcist  \n",
       "\n",
       "[2 rows x 22 columns]"
      ]
     },
     "execution_count": 7,
     "metadata": {},
     "output_type": "execute_result"
    }
   ],
   "source": [
    "df.head(2)"
   ]
  },
  {
   "cell_type": "markdown",
   "metadata": {},
   "source": [
    "# VECTORDATABASE"
   ]
  },
  {
   "cell_type": "code",
   "execution_count": null,
   "metadata": {},
   "outputs": [],
   "source": [
    "#!chmod +w db\n",
    "!pip install langchain chromadb --quiet\n",
    "\n",
    "import re\n",
    "from pprint import pprint\n",
    "import torch\n",
    "import logging\n",
    "import chromadb\n",
    "from chromadb import PersistentClient\n",
    "from sentence_transformers import SentenceTransformer\n",
    "from langchain.text_splitter import SentenceTransformersTokenTextSplitter\n",
    "from chromadb.utils.embedding_functions import SentenceTransformerEmbeddingFunction\n",
    "\n",
    "class VectorSearch:\n",
    "    \n",
    "    def __init__(self, model_name=\"all-MiniLM-L6-v2\", device=None):\n",
    "        \n",
    "        self.device = device if device else ('cuda' if torch.cuda.is_available() else 'cpu')\n",
    "        self.model_name = model_name\n",
    "        self.embedding_fn = SentenceTransformerEmbeddingFunction(model_name=self.model_name)\n",
    "        self.token_splitter = SentenceTransformersTokenTextSplitter(\n",
    "            tokens_per_chunk=256,\n",
    "            model_name=self.model_name,\n",
    "            chunk_overlap=0\n",
    "        )\n",
    "        self.chroma_db = PersistentClient(path=\"db\")\n",
    "        self.chroma_collection = self.chroma_db.get_or_create_collection(\"movies\", embedding_function=self.embedding_fn)\n",
    "\n",
    "\n",
    "    def get_candidate_by_description(self, query_text: str, n_results: int = 3):\n",
    "        try:\n",
    "            if isinstance(query_text, str):\n",
    "                res = self.chroma_collection.query(query_texts=[query_text], n_results=n_results)\n",
    "                return res\n",
    "            else:\n",
    "                logging.warning(\"The 'query_text' should be of type 'str'. Received: {}\".format(type(query_text)))\n",
    "                return None\n",
    "                \n",
    "        except Exception as e:\n",
    "            logging.error(f\"An error occurred while querying in: get_candidate_by_description: {e}\")\n",
    "            return None\n",
    "\n",
    "    def add_documents_to_collection(self, df_, cols, batch_size=100):\n",
    "        try:\n",
    "            id_col, doc_col = cols \n",
    "            \n",
    "            df_ = df_.drop_duplicates()\n",
    "            df_[doc_col] = df_[doc_col].astype(str)\n",
    "            print(id_col, doc_col)\n",
    "            \n",
    "            # Obter IDs e documentos das colunas corretas\n",
    "            ids = [str(i) for i in df_[id_col].tolist()]\n",
    "            documents = df_[doc_col].tolist()\n",
    "            \n",
    "            #ids = [str(i) for i in df_['application_id'].tolist()]\n",
    "            #documents = df_['academic_preprocessed_formations_name'].tolist()\n",
    "            \n",
    "            # Check which IDs already exist in the collection\n",
    "            existing_ids = self.chroma_collection.get().get('ids', [])\n",
    "            \n",
    "            # Filtrar documentos que já estão na coleção\n",
    "            new_documents = []\n",
    "            new_ids = []\n",
    "            \n",
    "            for doc_id, doc in zip(ids, documents):\n",
    "                if doc_id not in existing_ids:\n",
    "                    new_documents.append(doc)\n",
    "                    new_ids.append(doc_id)\n",
    "            \n",
    "            # Adicionar documentos em lotes\n",
    "            for start in range(0, len(new_documents), batch_size):\n",
    "                end = min(start + batch_size, len(new_documents))\n",
    "                batch_ids = new_ids[start:end]\n",
    "                batch_documents = new_documents[start:end]\n",
    "                self.chroma_collection.add(documents=batch_documents, ids=batch_ids)\n",
    "                print(f\"Added {len(batch_documents)} new documents to the collection in batch.\")\n",
    "            print('FIM ADD')\n",
    "        except Exception as e:\n",
    "            print(f\"An error occurred while adding documents: {e}\")\n",
    "            \n",
    "    def vectorsearch_main(self, df_jobs, query_text, *cols, batch_size=100):\n",
    "        try:\n",
    "            # Optionally, add documents to the collection\n",
    "            self.add_documents_to_collection(df_jobs, cols[0], batch_size=batch_size)\n",
    "\n",
    "            # Count of documents in the collection\n",
    "            document_count = len(self.chroma_collection.get().get('ids', []))\n",
    "            pprint(f\"Document count: {document_count}\")\n",
    "\n",
    "            # Perform the search query\n",
    "            results = self.get_candidate_by_description(query_text)\n",
    "            return results\n",
    "        except Exception as e:\n",
    "            print(f\"An error occurred in vectorsearch_main: {e}\")\n",
    "            return None\n"
   ]
  },
  {
   "cell_type": "code",
   "execution_count": 13,
   "metadata": {},
   "outputs": [
    {
     "name": "stderr",
     "output_type": "stream",
     "text": [
      "2024-09-18 11:41:45,196 - INFO - Use pytorch device_name: cpu\n",
      "2024-09-18 11:41:45,196 - INFO - Load pretrained SentenceTransformer: all-MiniLM-L6-v2\n"
     ]
    },
    {
     "name": "stdout",
     "output_type": "stream",
     "text": [
      "id preprocessed_title\n",
      "FIM ADD\n",
      "'Document count: 8'\n"
     ]
    },
    {
     "name": "stderr",
     "output_type": "stream",
     "text": [
      "Batches: 100%|██████████| 1/1 [00:00<00:00, 227.40it/s]"
     ]
    },
    {
     "name": "stdout",
     "output_type": "stream",
     "text": [
      "\"Movie: 768744 | | My Hero Academia: World Heroes' Mission\"\n",
      "'Movie: 667538 | | Transformers: Rise of the Beasts'\n",
      "'Movie: 851644 | | 20th Century Girl'\n"
     ]
    },
    {
     "name": "stderr",
     "output_type": "stream",
     "text": [
      "\n"
     ]
    }
   ],
   "source": [
    "#job_description, obrigatorio ser texto str\n",
    "query_text = \"Hero\"\n",
    "vectorSearch = VectorSearch()\n",
    "cols = ['id','preprocessed_title']\n",
    "results = vectorSearch.vectorsearch_main(df, query_text, cols)\n",
    "\n",
    "if results and 'ids' in results and len(results['ids']) > 0:\n",
    "    for i in range(min(30, len(results['ids'][0]))):\n",
    "        pprint(f\"Movie: {results['ids'][0][i]} | | {results['documents'][0][i]}\")\n",
    "else:\n",
    "    print(\"Nenhum resultado encontrado ou ocorreu um erro.\")\n"
   ]
  }
 ],
 "metadata": {
  "interpreter": {
   "hash": "080cf51b86678d9e136733e00d56a0df2f18d13e41e8323d2f525bc6c064cd5e"
  },
  "kernelspec": {
   "display_name": "Python 3.9.7 ('base')",
   "language": "python",
   "name": "python3"
  },
  "language_info": {
   "codemirror_mode": {
    "name": "ipython",
    "version": 3
   },
   "file_extension": ".py",
   "mimetype": "text/x-python",
   "name": "python",
   "nbconvert_exporter": "python",
   "pygments_lexer": "ipython3",
   "version": "3.9.6"
  },
  "orig_nbformat": 4
 },
 "nbformat": 4,
 "nbformat_minor": 2
}
